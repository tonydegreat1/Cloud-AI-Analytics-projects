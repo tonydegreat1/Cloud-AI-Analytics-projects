{
  "cells": [
    {
      "cell_type": "code",
      "execution_count": null,
      "metadata": {
        "colab": {
          "base_uri": "https://localhost:8080/"
        },
        "id": "KP_3gIHJjfs6",
        "outputId": "11ae473f-41fe-4a88-99dd-035126a2ae23"
      },
      "outputs": [
        {
          "output_type": "stream",
          "name": "stdout",
          "text": [
            "Requirement already satisfied: apache_beam in /usr/local/lib/python3.7/dist-packages (2.36.0)\n",
            "Requirement already satisfied: proto-plus<2,>=1.7.1 in /usr/local/lib/python3.7/dist-packages (from apache_beam) (1.20.3)\n",
            "Requirement already satisfied: httplib2<0.20.0,>=0.8 in /usr/local/lib/python3.7/dist-packages (from apache_beam) (0.17.4)\n",
            "Requirement already satisfied: cloudpickle<3,>=2.0.0 in /usr/local/lib/python3.7/dist-packages (from apache_beam) (2.0.0)\n",
            "Requirement already satisfied: protobuf<4,>=3.12.2 in /usr/local/lib/python3.7/dist-packages (from apache_beam) (3.19.4)\n",
            "Requirement already satisfied: numpy<1.22.0,>=1.14.3 in /usr/local/lib/python3.7/dist-packages (from apache_beam) (1.21.5)\n",
            "Requirement already satisfied: crcmod<2.0,>=1.7 in /usr/local/lib/python3.7/dist-packages (from apache_beam) (1.7)\n",
            "Requirement already satisfied: oauth2client<5,>=2.0.1 in /usr/local/lib/python3.7/dist-packages (from apache_beam) (4.1.3)\n",
            "Requirement already satisfied: python-dateutil<3,>=2.8.0 in /usr/local/lib/python3.7/dist-packages (from apache_beam) (2.8.2)\n",
            "Requirement already satisfied: pytz>=2018.3 in /usr/local/lib/python3.7/dist-packages (from apache_beam) (2018.9)\n",
            "Requirement already satisfied: pyarrow<7.0.0,>=0.15.1 in /usr/local/lib/python3.7/dist-packages (from apache_beam) (6.0.1)\n",
            "Requirement already satisfied: typing-extensions>=3.7.0 in /usr/local/lib/python3.7/dist-packages (from apache_beam) (3.10.0.2)\n",
            "Requirement already satisfied: orjson<4.0 in /usr/local/lib/python3.7/dist-packages (from apache_beam) (3.6.7)\n",
            "Requirement already satisfied: requests<3.0.0,>=2.24.0 in /usr/local/lib/python3.7/dist-packages (from apache_beam) (2.27.1)\n",
            "Requirement already satisfied: hdfs<3.0.0,>=2.1.0 in /usr/local/lib/python3.7/dist-packages (from apache_beam) (2.6.0)\n",
            "Requirement already satisfied: grpcio<2,>=1.29.0 in /usr/local/lib/python3.7/dist-packages (from apache_beam) (1.43.0)\n",
            "Requirement already satisfied: pydot<2,>=1.2.0 in /usr/local/lib/python3.7/dist-packages (from apache_beam) (1.3.0)\n",
            "Requirement already satisfied: pymongo<4.0.0,>=3.8.0 in /usr/local/lib/python3.7/dist-packages (from apache_beam) (3.12.3)\n",
            "Requirement already satisfied: fastavro<2,>=0.21.4 in /usr/local/lib/python3.7/dist-packages (from apache_beam) (1.4.9)\n",
            "Requirement already satisfied: dill<0.3.2,>=0.3.1.1 in /usr/local/lib/python3.7/dist-packages (from apache_beam) (0.3.1.1)\n",
            "Requirement already satisfied: six>=1.5.2 in /usr/local/lib/python3.7/dist-packages (from grpcio<2,>=1.29.0->apache_beam) (1.15.0)\n",
            "Requirement already satisfied: docopt in /usr/local/lib/python3.7/dist-packages (from hdfs<3.0.0,>=2.1.0->apache_beam) (0.6.2)\n",
            "Requirement already satisfied: pyasn1>=0.1.7 in /usr/local/lib/python3.7/dist-packages (from oauth2client<5,>=2.0.1->apache_beam) (0.4.8)\n",
            "Requirement already satisfied: rsa>=3.1.4 in /usr/local/lib/python3.7/dist-packages (from oauth2client<5,>=2.0.1->apache_beam) (4.8)\n",
            "Requirement already satisfied: pyasn1-modules>=0.0.5 in /usr/local/lib/python3.7/dist-packages (from oauth2client<5,>=2.0.1->apache_beam) (0.2.8)\n",
            "Requirement already satisfied: pyparsing>=2.1.4 in /usr/local/lib/python3.7/dist-packages (from pydot<2,>=1.2.0->apache_beam) (3.0.7)\n",
            "Requirement already satisfied: urllib3<1.27,>=1.21.1 in /usr/local/lib/python3.7/dist-packages (from requests<3.0.0,>=2.24.0->apache_beam) (1.24.3)\n",
            "Requirement already satisfied: certifi>=2017.4.17 in /usr/local/lib/python3.7/dist-packages (from requests<3.0.0,>=2.24.0->apache_beam) (2021.10.8)\n",
            "Requirement already satisfied: charset-normalizer~=2.0.0 in /usr/local/lib/python3.7/dist-packages (from requests<3.0.0,>=2.24.0->apache_beam) (2.0.12)\n",
            "Requirement already satisfied: idna<4,>=2.5 in /usr/local/lib/python3.7/dist-packages (from requests<3.0.0,>=2.24.0->apache_beam) (2.10)\n"
          ]
        }
      ],
      "source": [
        "!pip install apache_beam"
      ]
    },
    {
      "cell_type": "code",
      "source": [
        "import apache_beam as beam\n",
        "import time"
      ],
      "metadata": {
        "id": "JO9ApQlc3Tvh"
      },
      "execution_count": null,
      "outputs": []
    },
    {
      "cell_type": "markdown",
      "source": [
        "## **Latest:** \n",
        "\n",
        "* \tGets the element with the latest timestamp.\n",
        "*  we create a pipeline with a PCollection of produce with a timestamp for their harvest date. We use Latest to get the element with the latest timestamp from the PCollection.\n"
      ],
      "metadata": {
        "id": "FU8gAiIc2nCT"
      }
    },
    {
      "cell_type": "code",
      "execution_count": null,
      "metadata": {
        "id": "d3wjCgK3jfxK",
        "colab": {
          "base_uri": "https://localhost:8080/",
          "height": 91
        },
        "outputId": "0fd8694d-ce9e-4394-d1b8-5e46c18f0f14"
      },
      "outputs": [
        {
          "output_type": "stream",
          "name": "stderr",
          "text": [
            "WARNING:apache_beam.runners.interactive.interactive_environment:Dependencies required for Interactive Beam PCollection visualization are not available, please use: `pip install apache-beam[interactive]` to install necessary dependencies to enable all data visualization features.\n"
          ]
        },
        {
          "output_type": "display_data",
          "data": {
            "application/javascript": [
              "\n",
              "        if (typeof window.interactive_beam_jquery == 'undefined') {\n",
              "          var jqueryScript = document.createElement('script');\n",
              "          jqueryScript.src = 'https://code.jquery.com/jquery-3.4.1.slim.min.js';\n",
              "          jqueryScript.type = 'text/javascript';\n",
              "          jqueryScript.onload = function() {\n",
              "            var datatableScript = document.createElement('script');\n",
              "            datatableScript.src = 'https://cdn.datatables.net/1.10.20/js/jquery.dataTables.min.js';\n",
              "            datatableScript.type = 'text/javascript';\n",
              "            datatableScript.onload = function() {\n",
              "              window.interactive_beam_jquery = jQuery.noConflict(true);\n",
              "              window.interactive_beam_jquery(document).ready(function($){\n",
              "                \n",
              "              });\n",
              "            }\n",
              "            document.head.appendChild(datatableScript);\n",
              "          };\n",
              "          document.head.appendChild(jqueryScript);\n",
              "        } else {\n",
              "          window.interactive_beam_jquery(document).ready(function($){\n",
              "            \n",
              "          });\n",
              "        }"
            ]
          },
          "metadata": {}
        },
        {
          "output_type": "stream",
          "name": "stderr",
          "text": [
            "WARNING:root:Make sure that locally built Python SDK docker image has Python 3.7 interpreter.\n"
          ]
        },
        {
          "output_type": "stream",
          "name": "stdout",
          "text": [
            "🍆\n"
          ]
        }
      ],
      "source": [
        "def to_unix_time(time_str, format='%Y-%m-%d %H:%M:%S'):\n",
        "  return time.mktime(time.strptime(time_str, format))\n",
        "\n",
        "with beam.Pipeline() as pipeline:\n",
        "  latest_element = (\n",
        "      pipeline\n",
        "      | 'Create crops' >> beam.Create([\n",
        "          {\n",
        "              'item': '🥬', 'harvest': '2020-02-24 00:00:00'\n",
        "          },\n",
        "          {\n",
        "              'item': '🍓', 'harvest': '2020-06-16 00:00:00'\n",
        "          },\n",
        "          {\n",
        "              'item': '🥕', 'harvest': '2020-07-17 00:00:00'\n",
        "          },\n",
        "          {\n",
        "              'item': '🍆', 'harvest': '2020-10-26 00:00:00'\n",
        "          },\n",
        "          {\n",
        "              'item': '🍅', 'harvest': '2020-10-01 00:00:00'\n",
        "          },\n",
        "      ])\n",
        "      | 'With timestamps' >> beam.Map(\n",
        "          lambda crop: beam.window.TimestampedValue(\n",
        "              crop['item'], to_unix_time(crop['harvest'])))\n",
        "      | 'Get latest element' >> beam.combiners.Latest.Globally()\n",
        "      | beam.Map(print))"
      ]
    },
    {
      "cell_type": "code",
      "execution_count": null,
      "metadata": {
        "id": "gn3UPRaXjf1c"
      },
      "outputs": [],
      "source": [
        "def to_unix_time(time_str, format='%Y-%m-%d %H:%M:%S'):\n",
        "  return time.mktime(time.strptime(time_str, format))\n",
        "\n",
        "with beam.Pipeline() as pipeline:\n",
        "  latest_elements_per_key = (\n",
        "      pipeline\n",
        "      | 'Create crops' >> beam.Create([\n",
        "          ('spring', {\n",
        "              'item': '🥕', 'harvest': '2020-06-28 00:00:00'\n",
        "          }),\n",
        "          ('spring', {\n",
        "              'item': '🍓', 'harvest': '2020-06-16 00:00:00'\n",
        "          }),\n",
        "          ('summer', {\n",
        "              'item': '🥕', 'harvest': '2020-07-17 00:00:00'\n",
        "          }),\n",
        "          ('summer', {\n",
        "              'item': '🍓', 'harvest': '2020-08-26 00:00:00'\n",
        "          }),\n",
        "          ('summer', {\n",
        "              'item': '🍆', 'harvest': '2020-09-04 00:00:00'\n",
        "          }),\n",
        "          ('summer', {\n",
        "              'item': '🥬', 'harvest': '2020-09-18 00:00:00'\n",
        "          }),\n",
        "          ('summer', {\n",
        "              'item': '🍅', 'harvest': '2020-09-22 00:00:00'\n",
        "          }),\n",
        "          ('autumn', {\n",
        "              'item': '🍅', 'harvest': '2020-10-01 00:00:00'\n",
        "          }),\n",
        "          ('autumn', {\n",
        "              'item': '🥬', 'harvest': '2020-10-20 00:00:00'\n",
        "          }),\n",
        "          ('autumn', {\n",
        "              'item': '🍆', 'harvest': '2020-10-26 00:00:00'\n",
        "          }),\n",
        "          ('winter', {\n",
        "              'item': '🥬', 'harvest': '2020-02-24 00:00:00'\n",
        "          }),\n",
        "      ])\n",
        "      | 'With timestamps' >> beam.Map(\n",
        "          lambda pair: beam.window.TimestampedValue(\n",
        "              (pair[0], pair[1]['item']), to_unix_time(pair[1]['harvest'])))\n",
        "      | 'Get latest elements per key' >> beam.combiners.Latest.PerKey()\n",
        "      | beam.Map(print))"
      ]
    },
    {
      "cell_type": "markdown",
      "source": [
        "## **Max:** \n",
        "\n",
        "*\tGets the element with the maximum value within each aggregation.\n",
        "* we create a pipeline with a PCollection. Then, we get the element with the maximum value in different ways.\n",
        "\n",
        "\n"
      ],
      "metadata": {
        "id": "NPyrXXe62sDh"
      }
    },
    {
      "cell_type": "code",
      "execution_count": null,
      "metadata": {
        "id": "pIZB6XWLjf-D"
      },
      "outputs": [],
      "source": [
        "with beam.Pipeline() as pipeline:\n",
        "  max_element = (\n",
        "      pipeline\n",
        "      | 'Create numbers' >> beam.Create([3, 4, 1, 2])\n",
        "      | 'Get max value' >>\n",
        "      beam.CombineGlobally(lambda elements: max(elements or [None]))\n",
        "      | beam.Map(print))"
      ]
    },
    {
      "cell_type": "markdown",
      "source": [
        "Combine.PerKey() to get the maximum element for each unique key in a PCollection of key-values."
      ],
      "metadata": {
        "id": "b4194sWa4rwt"
      }
    },
    {
      "cell_type": "code",
      "execution_count": null,
      "metadata": {
        "id": "h475BjQQjgCa"
      },
      "outputs": [],
      "source": [
        "with beam.Pipeline() as pipeline:\n",
        "  elements_with_max_value_per_key = (\n",
        "      pipeline\n",
        "      | 'Create produce' >> beam.Create([\n",
        "          ('🥕', 3),\n",
        "          ('🥕', 2),\n",
        "          ('🍆', 1),\n",
        "          ('🍅', 4),\n",
        "          ('🍅', 5),\n",
        "          ('🍅', 3),\n",
        "      ])\n",
        "      | 'Get max value per key' >> beam.CombinePerKey(max)\n",
        "      | beam.Map(print))"
      ]
    },
    {
      "cell_type": "markdown",
      "source": [
        "## **Min:**\n",
        "\n",
        "*\tGets the element with the minimum value within each aggregation.\n",
        "* we create a pipeline with a PCollection. Then, we get the element with the minimum value in different ways.\n",
        "\n",
        "\n"
      ],
      "metadata": {
        "id": "nJr8k_X72uij"
      }
    },
    {
      "cell_type": "code",
      "execution_count": null,
      "metadata": {
        "id": "txAFLXitjgGk",
        "colab": {
          "base_uri": "https://localhost:8080/"
        },
        "outputId": "244cd9fb-e66c-4c86-8e50-cb6fa9680763"
      },
      "outputs": [
        {
          "output_type": "stream",
          "name": "stderr",
          "text": [
            "WARNING:root:Make sure that locally built Python SDK docker image has Python 3.7 interpreter.\n"
          ]
        },
        {
          "output_type": "stream",
          "name": "stdout",
          "text": [
            "1\n"
          ]
        }
      ],
      "source": [
        "with beam.Pipeline() as pipeline:\n",
        "  min_element = (\n",
        "      pipeline\n",
        "      | 'Create numbers' >> beam.Create([3, 4, 1, 2])\n",
        "      | 'Get min value' >>\n",
        "      beam.CombineGlobally(lambda elements: min(elements or [-1]))\n",
        "      | beam.Map(print))"
      ]
    },
    {
      "cell_type": "markdown",
      "source": [
        "Combine.PerKey() to get the minimum element for each unique key in a PCollection of key-values."
      ],
      "metadata": {
        "id": "GOmen56n4n9y"
      }
    },
    {
      "cell_type": "code",
      "execution_count": null,
      "metadata": {
        "id": "s7DaRE9CjgK3"
      },
      "outputs": [],
      "source": [
        "with beam.Pipeline() as pipeline:\n",
        "  elements_with_min_value_per_key = (\n",
        "      pipeline\n",
        "      | 'Create produce' >> beam.Create([\n",
        "          ('🥕', 3),\n",
        "          ('🥕', 2),\n",
        "          ('🍆', 1),\n",
        "          ('🍅', 4),\n",
        "          ('🍅', 5),\n",
        "          ('🍅', 3),\n",
        "      ])\n",
        "      | 'Get min value per key' >> beam.CombinePerKey(min)\n",
        "      | beam.Map(print))"
      ]
    },
    {
      "cell_type": "markdown",
      "source": [
        "## **Mean:**\n",
        "\n",
        "*\tTransforms for computing the arithmetic mean of the elements in a collection, or the mean of the values associated with each key in a collection of key-value pairs.\n",
        "* we create a pipeline with a PCollection. Then, we get the element with the average value in different ways.\n",
        "\n",
        "\n"
      ],
      "metadata": {
        "id": "49bsdnUS21Sc"
      }
    },
    {
      "cell_type": "code",
      "execution_count": null,
      "metadata": {
        "id": "CzENKWOKjgPP"
      },
      "outputs": [],
      "source": [
        "with beam.Pipeline() as pipeline:\n",
        "  mean_element = (\n",
        "      pipeline\n",
        "      | 'Create numbers' >> beam.Create([3, 4, 1, 2])\n",
        "      | 'Get mean value' >> beam.combiners.Mean.Globally()\n",
        "      | beam.Map(print))"
      ]
    },
    {
      "cell_type": "markdown",
      "source": [
        "**Mean.PerKey() to get the average of the elements for each unique key in a PCollection of key-values.**"
      ],
      "metadata": {
        "id": "0a3UPV08421I"
      }
    },
    {
      "cell_type": "code",
      "execution_count": null,
      "metadata": {
        "id": "V6Fw-pkTjgUC"
      },
      "outputs": [],
      "source": [
        "with beam.Pipeline() as pipeline:\n",
        "  elements_with_mean_value_per_key = (\n",
        "      pipeline\n",
        "      | 'Create produce' >> beam.Create([\n",
        "          ('🥕', 3),\n",
        "          ('🥕', 2),\n",
        "          ('🍆', 1),\n",
        "          ('🍅', 4),\n",
        "          ('🍅', 5),\n",
        "          ('🍅', 3),\n",
        "      ])\n",
        "      | 'Get mean value per key' >> beam.combiners.Mean.PerKey()\n",
        "      | beam.Map(print))"
      ]
    },
    {
      "cell_type": "markdown",
      "source": [
        "## **Sample:**\n",
        "\n",
        "*\tTransforms for taking samples of the elements in a collection, or samples of the values associated with each key in a collection of key-value pairs.\n",
        "* we create a pipeline with a PCollection. Then, we get a random sample of elements in different ways.\n",
        "\n",
        "\n"
      ],
      "metadata": {
        "id": "7uJuqGzA25lw"
      }
    },
    {
      "cell_type": "markdown",
      "source": [
        "Sample.FixedSizeGlobally() to get a fixed-size random sample of elements from the entire PCollection."
      ],
      "metadata": {
        "id": "SXHL-rkb5B5c"
      }
    },
    {
      "cell_type": "code",
      "source": [
        "with beam.Pipeline() as pipeline:\n",
        "  sample = (\n",
        "      pipeline\n",
        "      | 'Create produce' >> beam.Create([\n",
        "          '🍓 Strawberry',\n",
        "          '🥕 Carrot',\n",
        "          '🍆 Eggplant',\n",
        "          '🍅 Tomato',\n",
        "          '🥔 Potato',\n",
        "      ])\n",
        "      | 'Sample N elements' >> beam.combiners.Sample.FixedSizeGlobally(3)\n",
        "      | beam.Map(print))"
      ],
      "metadata": {
        "colab": {
          "base_uri": "https://localhost:8080/"
        },
        "id": "KgQM35xl3Eku",
        "outputId": "7c7a1f04-4fc3-49c9-ae4a-0e2c4cd7d7fb"
      },
      "execution_count": null,
      "outputs": [
        {
          "output_type": "stream",
          "name": "stderr",
          "text": [
            "WARNING:root:Make sure that locally built Python SDK docker image has Python 3.7 interpreter.\n"
          ]
        },
        {
          "output_type": "stream",
          "name": "stdout",
          "text": [
            "['🍅 Tomato', '🥔 Potato', '🥕 Carrot']\n"
          ]
        }
      ]
    },
    {
      "cell_type": "code",
      "source": [
        "with beam.Pipeline() as pipeline:\n",
        "  samples_per_key = (\n",
        "      pipeline\n",
        "      | 'Create produce' >> beam.Create([\n",
        "          ('spring', '🍓'),\n",
        "          ('spring', '🥕'),\n",
        "          ('spring', '🍆'),\n",
        "          ('spring', '🍅'),\n",
        "          ('summer', '🥕'),\n",
        "          ('summer', '🍅'),\n",
        "          ('summer', '🌽'),\n",
        "          ('fall', '🥕'),\n",
        "          ('fall', '🍅'),\n",
        "          ('winter', '🍆'),\n",
        "      ])\n",
        "      | 'Samples per key' >> beam.combiners.Sample.FixedSizePerKey(3)\n",
        "      | beam.Map(print))"
      ],
      "metadata": {
        "colab": {
          "base_uri": "https://localhost:8080/"
        },
        "id": "VmLL7UAc3Eh8",
        "outputId": "22088c25-0421-4d80-d28e-87355bb717b3"
      },
      "execution_count": null,
      "outputs": [
        {
          "output_type": "stream",
          "name": "stderr",
          "text": [
            "WARNING:root:Make sure that locally built Python SDK docker image has Python 3.7 interpreter.\n"
          ]
        },
        {
          "output_type": "stream",
          "name": "stdout",
          "text": [
            "('spring', ['🍅', '🍓', '🥕'])\n",
            "('summer', ['🍅', '🥕', '🌽'])\n",
            "('fall', ['🍅', '🥕'])\n",
            "('winter', ['🍆'])\n"
          ]
        }
      ]
    },
    {
      "cell_type": "markdown",
      "source": [
        "## **Sum:**\n",
        "\n",
        "* Sums all the elements within each aggregation.\n",
        "* we create a pipeline with a PCollection. Then, we get the sum of all the element values in different ways.\n",
        "\n",
        "\n"
      ],
      "metadata": {
        "id": "vymSnh8M28FM"
      }
    },
    {
      "cell_type": "code",
      "source": [
        "with beam.Pipeline() as pipeline:\n",
        "  total = (\n",
        "      pipeline\n",
        "      | 'Create numbers' >> beam.Create([3, 4, 1, 2])\n",
        "      | 'Sum values' >> beam.CombineGlobally(sum)\n",
        "      | beam.Map(print))"
      ],
      "metadata": {
        "colab": {
          "base_uri": "https://localhost:8080/"
        },
        "id": "FeWFLKCv3EKr",
        "outputId": "f54fdd8f-f7e9-41c7-d380-e254dda6363a"
      },
      "execution_count": null,
      "outputs": [
        {
          "output_type": "stream",
          "name": "stderr",
          "text": [
            "WARNING:root:Make sure that locally built Python SDK docker image has Python 3.7 interpreter.\n"
          ]
        },
        {
          "output_type": "stream",
          "name": "stdout",
          "text": [
            "10\n"
          ]
        }
      ]
    },
    {
      "cell_type": "markdown",
      "source": [
        "Combine.PerKey() to get the sum of all the element values for each unique key in a PCollection of key-values."
      ],
      "metadata": {
        "id": "W2cUvF5A5Ssb"
      }
    },
    {
      "cell_type": "code",
      "source": [
        "with beam.Pipeline() as pipeline:\n",
        "  totals_per_key = (\n",
        "      pipeline\n",
        "      | 'Create produce' >> beam.Create([\n",
        "          ('🥕', 3),\n",
        "          ('🥕', 2),\n",
        "          ('🍆', 1),\n",
        "          ('🍅', 4),\n",
        "          ('🍅', 5),\n",
        "          ('🍅', 3),\n",
        "      ])\n",
        "      | 'Sum values per key' >> beam.CombinePerKey(sum)\n",
        "      | beam.Map(print))"
      ],
      "metadata": {
        "colab": {
          "base_uri": "https://localhost:8080/"
        },
        "id": "rsBTm4MU3ECs",
        "outputId": "6e86b8db-2537-46cb-ad80-6cd42798f162"
      },
      "execution_count": null,
      "outputs": [
        {
          "output_type": "stream",
          "name": "stderr",
          "text": [
            "WARNING:root:Make sure that locally built Python SDK docker image has Python 3.7 interpreter.\n"
          ]
        },
        {
          "output_type": "stream",
          "name": "stdout",
          "text": [
            "('🥕', 5)\n",
            "('🍆', 1)\n",
            "('🍅', 12)\n"
          ]
        }
      ]
    },
    {
      "cell_type": "markdown",
      "source": [
        "## **Top:**\n",
        "\n",
        "* Transforms for finding the largest (or smallest) set of elements in a collection, or the largest (or smallest) set of values associated with each key in a collection of key-value pairs.\n",
        "* we create a pipeline with a PCollection. Then, we get the largest or smallest elements in different ways.\n",
        "\n",
        "\n"
      ],
      "metadata": {
        "id": "AAhMQvqs2_9F"
      }
    },
    {
      "cell_type": "code",
      "source": [
        "with beam.Pipeline() as pipeline:\n",
        "  largest_elements = (\n",
        "      pipeline\n",
        "      | 'Create numbers' >> beam.Create([3, 4, 1, 2])\n",
        "      | 'Largest N values' >> beam.combiners.Top.Largest(2)\n",
        "      | beam.Map(print))"
      ],
      "metadata": {
        "colab": {
          "base_uri": "https://localhost:8080/"
        },
        "id": "GOFOKwzR3FNi",
        "outputId": "d2b21f0a-d063-4cae-c608-d2da4e210b97"
      },
      "execution_count": null,
      "outputs": [
        {
          "output_type": "stream",
          "name": "stderr",
          "text": [
            "WARNING:root:Make sure that locally built Python SDK docker image has Python 3.7 interpreter.\n"
          ]
        },
        {
          "output_type": "stream",
          "name": "stdout",
          "text": [
            "[4, 3]\n"
          ]
        }
      ]
    },
    {
      "cell_type": "markdown",
      "source": [
        "Top.LargestPerKey() to get the largest elements for each unique key in a PCollection of key-values."
      ],
      "metadata": {
        "id": "7MgZ6TTU5diA"
      }
    },
    {
      "cell_type": "code",
      "source": [
        "with beam.Pipeline() as pipeline:\n",
        "  largest_elements_per_key = (\n",
        "      pipeline\n",
        "      | 'Create produce' >> beam.Create([\n",
        "          ('🥕', 3),\n",
        "          ('🥕', 2),\n",
        "          ('🍆', 1),\n",
        "          ('🍅', 4),\n",
        "          ('🍅', 5),\n",
        "          ('🍅', 3),\n",
        "      ])\n",
        "      | 'Largest N values per key' >> beam.combiners.Top.LargestPerKey(2)\n",
        "      | beam.Map(print))"
      ],
      "metadata": {
        "colab": {
          "base_uri": "https://localhost:8080/"
        },
        "id": "m_vC0y4M27se",
        "outputId": "b4058b4c-1ffd-4019-eb92-dc0d5ae00e06"
      },
      "execution_count": null,
      "outputs": [
        {
          "output_type": "stream",
          "name": "stderr",
          "text": [
            "WARNING:root:Make sure that locally built Python SDK docker image has Python 3.7 interpreter.\n"
          ]
        },
        {
          "output_type": "stream",
          "name": "stdout",
          "text": [
            "('🥕', [3, 2])\n",
            "('🍆', [1])\n",
            "('🍅', [5, 4])\n"
          ]
        }
      ]
    }
  ],
  "metadata": {
    "colab": {
      "name": "Tutorial 3e – latest, Max, Min, Sample, Sum and Top Transform in Apache Beam.ipynb",
      "provenance": [],
      "collapsed_sections": []
    },
    "kernelspec": {
      "display_name": "Python 3",
      "name": "python3"
    },
    "language_info": {
      "name": "python"
    }
  },
  "nbformat": 4,
  "nbformat_minor": 0
}
