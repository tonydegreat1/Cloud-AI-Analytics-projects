{
  "nbformat": 4,
  "nbformat_minor": 0,
  "metadata": {
    "colab": {
      "name": "Tutorial 3c_Updated – GroupBy, GroupByKey, CoGroupByKey and GroupIntoBatches Transform in Apache Beam.ipynb",
      "provenance": [],
      "collapsed_sections": []
    },
    "kernelspec": {
      "name": "python3",
      "display_name": "Python 3"
    },
    "language_info": {
      "name": "python"
    }
  },
  "cells": [
    {
      "cell_type": "code",
      "execution_count": null,
      "metadata": {
        "colab": {
          "base_uri": "https://localhost:8080/"
        },
        "id": "jXOk2bPjtrLN",
        "outputId": "06e638ba-6438-42ae-f55b-7ce7db6fae4a"
      },
      "outputs": [
        {
          "output_type": "stream",
          "name": "stdout",
          "text": [
            "Requirement already satisfied: apache_beam in /usr/local/lib/python3.7/dist-packages (2.36.0)\n",
            "Requirement already satisfied: grpcio<2,>=1.29.0 in /usr/local/lib/python3.7/dist-packages (from apache_beam) (1.43.0)\n",
            "Requirement already satisfied: pymongo<4.0.0,>=3.8.0 in /usr/local/lib/python3.7/dist-packages (from apache_beam) (3.12.3)\n",
            "Requirement already satisfied: httplib2<0.20.0,>=0.8 in /usr/local/lib/python3.7/dist-packages (from apache_beam) (0.17.4)\n",
            "Requirement already satisfied: pyarrow<7.0.0,>=0.15.1 in /usr/local/lib/python3.7/dist-packages (from apache_beam) (6.0.1)\n",
            "Requirement already satisfied: python-dateutil<3,>=2.8.0 in /usr/local/lib/python3.7/dist-packages (from apache_beam) (2.8.2)\n",
            "Requirement already satisfied: oauth2client<5,>=2.0.1 in /usr/local/lib/python3.7/dist-packages (from apache_beam) (4.1.3)\n",
            "Requirement already satisfied: requests<3.0.0,>=2.24.0 in /usr/local/lib/python3.7/dist-packages (from apache_beam) (2.27.1)\n",
            "Requirement already satisfied: crcmod<2.0,>=1.7 in /usr/local/lib/python3.7/dist-packages (from apache_beam) (1.7)\n",
            "Requirement already satisfied: pydot<2,>=1.2.0 in /usr/local/lib/python3.7/dist-packages (from apache_beam) (1.3.0)\n",
            "Requirement already satisfied: numpy<1.22.0,>=1.14.3 in /usr/local/lib/python3.7/dist-packages (from apache_beam) (1.21.5)\n",
            "Requirement already satisfied: pytz>=2018.3 in /usr/local/lib/python3.7/dist-packages (from apache_beam) (2018.9)\n",
            "Requirement already satisfied: proto-plus<2,>=1.7.1 in /usr/local/lib/python3.7/dist-packages (from apache_beam) (1.20.3)\n",
            "Requirement already satisfied: fastavro<2,>=0.21.4 in /usr/local/lib/python3.7/dist-packages (from apache_beam) (1.4.9)\n",
            "Requirement already satisfied: cloudpickle<3,>=2.0.0 in /usr/local/lib/python3.7/dist-packages (from apache_beam) (2.0.0)\n",
            "Requirement already satisfied: typing-extensions>=3.7.0 in /usr/local/lib/python3.7/dist-packages (from apache_beam) (3.10.0.2)\n",
            "Requirement already satisfied: hdfs<3.0.0,>=2.1.0 in /usr/local/lib/python3.7/dist-packages (from apache_beam) (2.6.0)\n",
            "Requirement already satisfied: orjson<4.0 in /usr/local/lib/python3.7/dist-packages (from apache_beam) (3.6.7)\n",
            "Requirement already satisfied: dill<0.3.2,>=0.3.1.1 in /usr/local/lib/python3.7/dist-packages (from apache_beam) (0.3.1.1)\n",
            "Requirement already satisfied: protobuf<4,>=3.12.2 in /usr/local/lib/python3.7/dist-packages (from apache_beam) (3.19.4)\n",
            "Requirement already satisfied: six>=1.5.2 in /usr/local/lib/python3.7/dist-packages (from grpcio<2,>=1.29.0->apache_beam) (1.15.0)\n",
            "Requirement already satisfied: docopt in /usr/local/lib/python3.7/dist-packages (from hdfs<3.0.0,>=2.1.0->apache_beam) (0.6.2)\n",
            "Requirement already satisfied: pyasn1-modules>=0.0.5 in /usr/local/lib/python3.7/dist-packages (from oauth2client<5,>=2.0.1->apache_beam) (0.2.8)\n",
            "Requirement already satisfied: rsa>=3.1.4 in /usr/local/lib/python3.7/dist-packages (from oauth2client<5,>=2.0.1->apache_beam) (4.8)\n",
            "Requirement already satisfied: pyasn1>=0.1.7 in /usr/local/lib/python3.7/dist-packages (from oauth2client<5,>=2.0.1->apache_beam) (0.4.8)\n",
            "Requirement already satisfied: pyparsing>=2.1.4 in /usr/local/lib/python3.7/dist-packages (from pydot<2,>=1.2.0->apache_beam) (3.0.7)\n",
            "Requirement already satisfied: urllib3<1.27,>=1.21.1 in /usr/local/lib/python3.7/dist-packages (from requests<3.0.0,>=2.24.0->apache_beam) (1.24.3)\n",
            "Requirement already satisfied: idna<4,>=2.5 in /usr/local/lib/python3.7/dist-packages (from requests<3.0.0,>=2.24.0->apache_beam) (2.10)\n",
            "Requirement already satisfied: charset-normalizer~=2.0.0 in /usr/local/lib/python3.7/dist-packages (from requests<3.0.0,>=2.24.0->apache_beam) (2.0.12)\n",
            "Requirement already satisfied: certifi>=2017.4.17 in /usr/local/lib/python3.7/dist-packages (from requests<3.0.0,>=2.24.0->apache_beam) (2021.10.8)\n"
          ]
        }
      ],
      "source": [
        "!pip3 install apache_beam"
      ]
    },
    {
      "cell_type": "code",
      "source": [
        "import apache_beam as beam"
      ],
      "metadata": {
        "id": "KvzvSpv9t1CG"
      },
      "execution_count": null,
      "outputs": []
    },
    {
      "cell_type": "markdown",
      "source": [
        "## **GroupBy**:\n",
        "\n",
        "*   Takes a collection of elements and produces a collection grouped, by properties of those elements.\n",
        "*   Unlike GroupByKey, the key is dynamically created from the elements themselves.\n",
        "\n",
        "\n",
        "\n"
      ],
      "metadata": {
        "id": "2WK4hZmt0Vbx"
      }
    },
    {
      "cell_type": "code",
      "source": [
        "with beam.Pipeline() as p:\n",
        "  grouped = (\n",
        "      p\n",
        "      | beam.Create(['strawberry', 'raspberry', 'blueberry', 'blackberry', 'banana'])\n",
        "      | beam.GroupBy(lambda s: s[0])\n",
        "      |beam.Map(print))"
      ],
      "metadata": {
        "colab": {
          "base_uri": "https://localhost:8080/",
          "height": 128
        },
        "id": "aA_mNhLz0D7s",
        "outputId": "fd97874c-76be-49ba-967f-8cb96153cc0a"
      },
      "execution_count": null,
      "outputs": [
        {
          "output_type": "stream",
          "name": "stderr",
          "text": [
            "WARNING:apache_beam.runners.interactive.interactive_environment:Dependencies required for Interactive Beam PCollection visualization are not available, please use: `pip install apache-beam[interactive]` to install necessary dependencies to enable all data visualization features.\n"
          ]
        },
        {
          "output_type": "display_data",
          "data": {
            "application/javascript": [
              "\n",
              "        if (typeof window.interactive_beam_jquery == 'undefined') {\n",
              "          var jqueryScript = document.createElement('script');\n",
              "          jqueryScript.src = 'https://code.jquery.com/jquery-3.4.1.slim.min.js';\n",
              "          jqueryScript.type = 'text/javascript';\n",
              "          jqueryScript.onload = function() {\n",
              "            var datatableScript = document.createElement('script');\n",
              "            datatableScript.src = 'https://cdn.datatables.net/1.10.20/js/jquery.dataTables.min.js';\n",
              "            datatableScript.type = 'text/javascript';\n",
              "            datatableScript.onload = function() {\n",
              "              window.interactive_beam_jquery = jQuery.noConflict(true);\n",
              "              window.interactive_beam_jquery(document).ready(function($){\n",
              "                \n",
              "              });\n",
              "            }\n",
              "            document.head.appendChild(datatableScript);\n",
              "          };\n",
              "          document.head.appendChild(jqueryScript);\n",
              "        } else {\n",
              "          window.interactive_beam_jquery(document).ready(function($){\n",
              "            \n",
              "          });\n",
              "        }"
            ]
          },
          "metadata": {}
        },
        {
          "output_type": "stream",
          "name": "stderr",
          "text": [
            "WARNING:root:Make sure that locally built Python SDK docker image has Python 3.7 interpreter.\n"
          ]
        },
        {
          "output_type": "stream",
          "name": "stdout",
          "text": [
            "('s', ['strawberry'])\n",
            "('r', ['raspberry'])\n",
            "('b', ['blueberry', 'blackberry', 'banana'])\n"
          ]
        }
      ]
    },
    {
      "cell_type": "markdown",
      "source": [
        "## **Aggregation:**"
      ],
      "metadata": {
        "id": "In0tpFd-p9Od"
      }
    },
    {
      "cell_type": "code",
      "source": [
        "GROCERY_LIST = [\n",
        "    beam.Row(recipe='pie', fruit='strawberry', quantity=3, unit_price=1.50),\n",
        "    beam.Row(recipe='pie', fruit='raspberry', quantity=1, unit_price=3.50),\n",
        "    beam.Row(recipe='pie', fruit='blackberry', quantity=1, unit_price=4.00),\n",
        "    beam.Row(recipe='pie', fruit='blueberry', quantity=1, unit_price=2.00),\n",
        "    beam.Row(recipe='muffin', fruit='blueberry', quantity=2, unit_price=2.00),\n",
        "    beam.Row(recipe='muffin', fruit='banana', quantity=3, unit_price=1.00),\n",
        "]"
      ],
      "metadata": {
        "id": "v1Q3XrnDpi_8"
      },
      "execution_count": null,
      "outputs": []
    },
    {
      "cell_type": "code",
      "source": [
        "with beam.Pipeline() as p:\n",
        "  grouped = p | beam.Create(GROCERY_LIST) | beam.GroupBy('recipe')"
      ],
      "metadata": {
        "id": "eQ67y9ARpik2"
      },
      "execution_count": null,
      "outputs": []
    },
    {
      "cell_type": "code",
      "source": [
        "with beam.Pipeline() as p:\n",
        "  grouped = (\n",
        "      p\n",
        "      | beam.Create(GROCERY_LIST)\n",
        "      | beam.GroupBy('fruit')\n",
        "          .aggregate_field('recipe', sum, 'total_quantity'))"
      ],
      "metadata": {
        "id": "uGZH6cy-p0-a"
      },
      "execution_count": null,
      "outputs": []
    },
    {
      "cell_type": "code",
      "source": [
        "with beam.Pipeline() as p:\n",
        "  grouped = (\n",
        "      p\n",
        "      | beam.Create(GROCERY_LIST)\n",
        "      | beam.GroupBy('fruit')\n",
        "          .aggregate_field('quantity', sum, 'total_quantity'))"
      ],
      "metadata": {
        "id": "QeoIqqq6pibC"
      },
      "execution_count": null,
      "outputs": []
    },
    {
      "cell_type": "markdown",
      "source": [
        "## **GroupByKey**:\n",
        "\n",
        "*   Takes a keyed collection of elements and produces a collection where each element consists of a key and all values associated with that key.\n",
        "\n"
      ],
      "metadata": {
        "id": "AsL6Qqcg0tpe"
      }
    },
    {
      "cell_type": "code",
      "source": [
        "records = [(\"vignesh\", [27, \"engineer\"]),\n",
        "(\"neethu\", [27, \"developer\"]),\n",
        "(\"farooqui\", [26, \"data analyst\"]),\n",
        "(\"sai\", [29, \"web developer\"]),\n",
        "(\"tinkle\", [28, \"fullstack developer\"]),\n",
        "(\"neethu\", 'Employed'),\n",
        "(\"sai\", 'Unemployed'),\n",
        "(\"tinkle\", 'Employed'),\n",
        "(\"farooqui\",'Employed'),\n",
        "(\"vignesh\", 'Unemployed')]"
      ],
      "metadata": {
        "id": "adpVmNex0EVU"
      },
      "execution_count": null,
      "outputs": []
    },
    {
      "cell_type": "code",
      "source": [
        "with beam.Pipeline() as pipeline:\n",
        "  produce_counts = (\n",
        "      pipeline\n",
        "      | 'Create produce counts' >> beam.Create(records)\n",
        "      | 'Group counts per produce' >> beam.GroupByKey()\n",
        "      | beam.Map(print))"
      ],
      "metadata": {
        "colab": {
          "base_uri": "https://localhost:8080/"
        },
        "id": "Io9fy8Xc3DCT",
        "outputId": "96d31d02-d681-4d8a-b21b-f9fe1b95d69f"
      },
      "execution_count": null,
      "outputs": [
        {
          "output_type": "stream",
          "name": "stderr",
          "text": [
            "WARNING:root:Make sure that locally built Python SDK docker image has Python 3.7 interpreter.\n"
          ]
        },
        {
          "output_type": "stream",
          "name": "stdout",
          "text": [
            "('vignesh', [[27, 'engineer'], 'Unemployed'])\n",
            "('neethu', [[27, 'developer'], 'Employed'])\n",
            "('farooqui', [[26, 'data analyst'], 'Employed'])\n",
            "('sai', [[29, 'web developer'], 'Unemployed'])\n",
            "('tinkle', [[28, 'fullstack developer'], 'Employed'])\n"
          ]
        }
      ]
    },
    {
      "cell_type": "markdown",
      "source": [
        "## **CoGroupByKey**:\n",
        "\n",
        "*   Aggregates all input elements by their key and allows downstream processing to consume all values associated with the key. \n",
        "*   While GroupByKey performs this operation over a single input collection and thus a single type of input values.\n",
        "*  CoGroupByKey operates over multiple input collections. As a result, the result for each key is a tuple of the values associated with that key in each input collection.\n",
        "\n"
      ],
      "metadata": {
        "id": "z0_P10IL06P3"
      }
    },
    {
      "cell_type": "code",
      "source": [
        "with beam.Pipeline() as pipeline:\n",
        "  student_pairs = pipeline | 'Create icons' >> beam.Create([\n",
        "      ('vignesh', 'bangalore'),\n",
        "      ('khaula', 'hyderabad'),\n",
        "      ('neethu', 'malapur'),\n",
        "      ('sai', 'chennai'),\n",
        "  ])\n",
        "\n",
        "  student_result = pipeline | 'Create durations' >> beam.Create([\n",
        "      ('vignesh', [15,\"FAIL\"]),\n",
        "      ('khaula', [99,\"PASS\"]),\n",
        "      ('neethu', [100,\"PASS\"]),\n",
        "      ('sai',[ 37,\"FAIL\"]),\n",
        "  ])\n",
        "\n",
        "  plants = (({\n",
        "      'icons': student_pairs, 'durations': student_result\n",
        "  })\n",
        "            | 'Merge' >> beam.CoGroupByKey()\n",
        "            | beam.Map(print))"
      ],
      "metadata": {
        "colab": {
          "base_uri": "https://localhost:8080/"
        },
        "id": "O5qCg4TPARIy",
        "outputId": "0fc7b7ec-10bc-4662-a9fc-d2dfd079b22a"
      },
      "execution_count": null,
      "outputs": [
        {
          "output_type": "stream",
          "name": "stderr",
          "text": [
            "WARNING:root:Make sure that locally built Python SDK docker image has Python 3.7 interpreter.\n"
          ]
        },
        {
          "output_type": "stream",
          "name": "stdout",
          "text": [
            "('vignesh', {'icons': ['bangalore'], 'durations': [[15, 'FAIL']]})\n",
            "('khaula', {'icons': ['hyderabad'], 'durations': [[99, 'PASS']]})\n",
            "('neethu', {'icons': ['malapur'], 'durations': [[100, 'PASS']]})\n",
            "('sai', {'icons': ['chennai'], 'durations': [[37, 'FAIL']]})\n"
          ]
        }
      ]
    },
    {
      "cell_type": "code",
      "source": [
        "with beam.Pipeline() as pipeline:\n",
        "  student_pairs = pipeline | 'Create icons' >> beam.Create([\n",
        "      ('vignesh', 15),\n",
        "      ('khaula', 99),\n",
        "      ('neethu', 100),\n",
        "      ('sai', 37),\n",
        "  ])\n",
        "\n",
        "  student_result = pipeline | 'Create durations' >> beam.Create([\n",
        "      ('vignesh', \"FAIL\"),\n",
        "      ('khaula',\"PASS\"),\n",
        "      ('neethu',\"PASS\"),\n",
        "      ('sai', \"FAIL\"),\n",
        "  ])\n",
        "\n",
        "  plants = (({\n",
        "      'Marks': student_pairs, 'Result': student_result\n",
        "  })\n",
        "  | 'Merge' >> beam.CoGroupByKey()\n",
        "  | beam.Map(print))"
      ],
      "metadata": {
        "colab": {
          "base_uri": "https://localhost:8080/"
        },
        "id": "UlJA3uyk0Ea4",
        "outputId": "731129dc-43a8-4478-be8a-bf899f3a32d1"
      },
      "execution_count": null,
      "outputs": [
        {
          "output_type": "stream",
          "name": "stderr",
          "text": [
            "WARNING:root:Make sure that locally built Python SDK docker image has Python 3.7 interpreter.\n"
          ]
        },
        {
          "output_type": "stream",
          "name": "stdout",
          "text": [
            "('vignesh', {'Marks': [15], 'Result': ['FAIL']})\n",
            "('khaula', {'Marks': [99], 'Result': ['PASS']})\n",
            "('neethu', {'Marks': [100], 'Result': ['PASS']})\n",
            "('sai', {'Marks': [37], 'Result': ['FAIL']})\n"
          ]
        }
      ]
    },
    {
      "cell_type": "markdown",
      "source": [
        "## **GroupIntoBatches**:\n",
        "\n",
        "\n",
        "\n",
        "*   Batches the input into desired batch size.\n",
        "\n"
      ],
      "metadata": {
        "id": "cUXfdFBa2GdQ"
      }
    },
    {
      "cell_type": "code",
      "source": [
        "with beam.Pipeline() as pipeline:\n",
        "  batches_with_keys = (\n",
        "      pipeline\n",
        "      | 'Create produce' >> beam.Create([\n",
        "          ('spring', '🍓'),\n",
        "          ('spring', '🥕'),\n",
        "          ('spring', '🍆'),\n",
        "          ('spring', '🍅'),\n",
        "          ('summer', '🥕'),\n",
        "          ('summer', '🍅'),\n",
        "          ('summer', '🌽'),\n",
        "          ('fall', '🥕'),\n",
        "          ('fall', '🍅'),\n",
        "          ('winter', '🍆'),\n",
        "      ])\n",
        "      | 'Group into batches' >> beam.GroupIntoBatches(4)  #3, #2\n",
        "      | beam.Map(print))"
      ],
      "metadata": {
        "colab": {
          "base_uri": "https://localhost:8080/"
        },
        "id": "Cl2qa2In0Egh",
        "outputId": "a2352f5c-8542-4a9e-9d2d-fdc20785d184"
      },
      "execution_count": null,
      "outputs": [
        {
          "output_type": "stream",
          "name": "stdout",
          "text": [
            "('spring', ['🍓', '🥕', '🍆', '🍅'])\n",
            "('summer', ['🥕', '🍅', '🌽'])\n",
            "('fall', ['🥕', '🍅'])\n",
            "('winter', ['🍆'])\n"
          ]
        },
        {
          "output_type": "stream",
          "name": "stderr",
          "text": [
            "/usr/local/lib/python3.7/dist-packages/ipykernel_launcher.py:17: FutureWarning: GroupIntoBatches is experimental.\n"
          ]
        }
      ]
    },
    {
      "cell_type": "code",
      "source": [
        ""
      ],
      "metadata": {
        "id": "D65bwvqc0ElR"
      },
      "execution_count": null,
      "outputs": []
    }
  ]
}