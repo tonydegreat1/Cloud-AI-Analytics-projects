{
  "nbformat": 4,
  "nbformat_minor": 0,
  "metadata": {
    "colab": {
      "name": "Pcollection_Apachebeam.ipynb",
      "provenance": [],
      "collapsed_sections": []
    },
    "kernelspec": {
      "name": "python3",
      "display_name": "Python 3"
    },
    "language_info": {
      "name": "python"
    }
  },
  "cells": [
    {
      "cell_type": "markdown",
      "source": [
        "## **PCollection Introduction in Apache Beam:**"
      ],
      "metadata": {
        "id": "Y8mjhyiJvcNx"
      }
    },
    {
      "cell_type": "markdown",
      "source": [
        "### **PCollection:** \n",
        "\n",
        "#### A PCollection is a data set or data stream. The data that a pipeline processes is part of a PCollection.\n",
        "\n",
        "It is an abstraction represents a potentially distributed, multi-element data set. It represents a distributed data set that our beam pipeline operates on.\n",
        "\n",
        "o\t**Immutability:** Pcollections are immutable in nature. Applying a transformations on a pcollection results in creation of new pcollection.\n",
        "\n",
        "o\t**Element type:** The elements in pcollection may be of any type, but all must be of same type. \n",
        "\n",
        "o **Element Schema:** Element type in a **PCollection** has a structure that can introspected. Examples are JSON, Protocol Buffer, Avro, and database records. Schemas provide a way to express types as a set of named fields, allowing for more-expressive aggregations.\n",
        "\n",
        "o\t**Operation type:**  Pcollection does not support grained operations. We cannot apply transformations on specific elements in pcollection.\n",
        "\n",
        "o\t**Timestamps:** Each element in pcollection has an associated timestamp with it.\n",
        "\n",
        "o **Creating a Pcollection:** create a PCollection by either reading data from an external source using Beam’s Source API (or) can create a PCollection of data stored in an in-memory collection class in your driver program. \n",
        "\n",
        "o\t**Unbounded pcollections:** An unbounded PCollection represents a data set of unlimited size. Example: Streaming data from pubsub. Source assigns the timestamps.\n",
        "\n",
        "o\t**Bounded pcollections:** A bounded PCollection represents a data set of a known fixed size. Example: Batch data. Every element is set to same timestamp.\n",
        "\n",
        "o\t**No Random access:** Can’t access data using index or some specific element. No size restriction.\n",
        "\n",
        "o\t**Ptransform:** Ptransform represent a data processing operation, or a step in our pipeline. Ex., Map, Groupby, FlatMap, ParDo, filter, flatten, combine etc.\n",
        "\n",
        "•\t**PCollection characteristics:**\n",
        "o\tA PCollection is owned by the specific Pipeline object for which it is created; multiple pipelines cannot share a PCollection.\n",
        "\n",
        "### •\t***Resources:***\n",
        "\n",
        "o\thttps://beam.apache.org/documentation/programming-guide/#pcollections \n",
        "\n",
        "o\thttps://beam.apache.org/releases/pydoc/2.36.0/apache_beam.io.textio.html?highlight=readfromtext#apache_beam.io.textio.ReadFromText \n"
      ],
      "metadata": {
        "id": "RQgMvERwwx8Q"
      }
    },
    {
      "cell_type": "code",
      "execution_count": 1,
      "metadata": {
        "id": "gwZRMnrri8xv",
        "colab": {
          "base_uri": "https://localhost:8080/"
        },
        "outputId": "e344d56f-aeb8-46b4-d908-e737fd3f8061"
      },
      "outputs": [
        {
          "output_type": "stream",
          "name": "stdout",
          "text": [
            "Requirement already satisfied: apache_beam in /usr/local/lib/python3.7/dist-packages (2.36.0)\n",
            "Requirement already satisfied: orjson<4.0 in /usr/local/lib/python3.7/dist-packages (from apache_beam) (3.6.7)\n",
            "Requirement already satisfied: typing-extensions>=3.7.0 in /usr/local/lib/python3.7/dist-packages (from apache_beam) (3.10.0.2)\n",
            "Requirement already satisfied: httplib2<0.20.0,>=0.8 in /usr/local/lib/python3.7/dist-packages (from apache_beam) (0.17.4)\n",
            "Requirement already satisfied: fastavro<2,>=0.21.4 in /usr/local/lib/python3.7/dist-packages (from apache_beam) (1.4.9)\n",
            "Requirement already satisfied: grpcio<2,>=1.29.0 in /usr/local/lib/python3.7/dist-packages (from apache_beam) (1.43.0)\n",
            "Requirement already satisfied: pydot<2,>=1.2.0 in /usr/local/lib/python3.7/dist-packages (from apache_beam) (1.3.0)\n",
            "Requirement already satisfied: pymongo<4.0.0,>=3.8.0 in /usr/local/lib/python3.7/dist-packages (from apache_beam) (3.12.3)\n",
            "Requirement already satisfied: pyarrow<7.0.0,>=0.15.1 in /usr/local/lib/python3.7/dist-packages (from apache_beam) (6.0.1)\n",
            "Requirement already satisfied: crcmod<2.0,>=1.7 in /usr/local/lib/python3.7/dist-packages (from apache_beam) (1.7)\n",
            "Requirement already satisfied: python-dateutil<3,>=2.8.0 in /usr/local/lib/python3.7/dist-packages (from apache_beam) (2.8.2)\n",
            "Requirement already satisfied: numpy<1.22.0,>=1.14.3 in /usr/local/lib/python3.7/dist-packages (from apache_beam) (1.21.5)\n",
            "Requirement already satisfied: protobuf<4,>=3.12.2 in /usr/local/lib/python3.7/dist-packages (from apache_beam) (3.19.4)\n",
            "Requirement already satisfied: hdfs<3.0.0,>=2.1.0 in /usr/local/lib/python3.7/dist-packages (from apache_beam) (2.6.0)\n",
            "Requirement already satisfied: cloudpickle<3,>=2.0.0 in /usr/local/lib/python3.7/dist-packages (from apache_beam) (2.0.0)\n",
            "Requirement already satisfied: pytz>=2018.3 in /usr/local/lib/python3.7/dist-packages (from apache_beam) (2018.9)\n",
            "Requirement already satisfied: proto-plus<2,>=1.7.1 in /usr/local/lib/python3.7/dist-packages (from apache_beam) (1.20.3)\n",
            "Requirement already satisfied: dill<0.3.2,>=0.3.1.1 in /usr/local/lib/python3.7/dist-packages (from apache_beam) (0.3.1.1)\n",
            "Requirement already satisfied: requests<3.0.0,>=2.24.0 in /usr/local/lib/python3.7/dist-packages (from apache_beam) (2.27.1)\n",
            "Requirement already satisfied: oauth2client<5,>=2.0.1 in /usr/local/lib/python3.7/dist-packages (from apache_beam) (4.1.3)\n",
            "Requirement already satisfied: six>=1.5.2 in /usr/local/lib/python3.7/dist-packages (from grpcio<2,>=1.29.0->apache_beam) (1.15.0)\n",
            "Requirement already satisfied: docopt in /usr/local/lib/python3.7/dist-packages (from hdfs<3.0.0,>=2.1.0->apache_beam) (0.6.2)\n",
            "Requirement already satisfied: pyasn1-modules>=0.0.5 in /usr/local/lib/python3.7/dist-packages (from oauth2client<5,>=2.0.1->apache_beam) (0.2.8)\n",
            "Requirement already satisfied: pyasn1>=0.1.7 in /usr/local/lib/python3.7/dist-packages (from oauth2client<5,>=2.0.1->apache_beam) (0.4.8)\n",
            "Requirement already satisfied: rsa>=3.1.4 in /usr/local/lib/python3.7/dist-packages (from oauth2client<5,>=2.0.1->apache_beam) (4.8)\n",
            "Requirement already satisfied: pyparsing>=2.1.4 in /usr/local/lib/python3.7/dist-packages (from pydot<2,>=1.2.0->apache_beam) (3.0.7)\n",
            "Requirement already satisfied: urllib3<1.27,>=1.21.1 in /usr/local/lib/python3.7/dist-packages (from requests<3.0.0,>=2.24.0->apache_beam) (1.24.3)\n",
            "Requirement already satisfied: certifi>=2017.4.17 in /usr/local/lib/python3.7/dist-packages (from requests<3.0.0,>=2.24.0->apache_beam) (2021.10.8)\n",
            "Requirement already satisfied: charset-normalizer~=2.0.0 in /usr/local/lib/python3.7/dist-packages (from requests<3.0.0,>=2.24.0->apache_beam) (2.0.11)\n",
            "Requirement already satisfied: idna<4,>=2.5 in /usr/local/lib/python3.7/dist-packages (from requests<3.0.0,>=2.24.0->apache_beam) (2.10)\n"
          ]
        }
      ],
      "source": [
        "#installation of apache beam   https://github.com/vigneshSs-07/Cloud-AI-Analytics/tree/main/Apache%20Beam%20-Python\n",
        "!pip3 install apache_beam"
      ]
    },
    {
      "cell_type": "code",
      "source": [
        "#importing library\n",
        "import apache_beam as beam"
      ],
      "metadata": {
        "id": "mO9xkORejAKn"
      },
      "execution_count": 2,
      "outputs": []
    },
    {
      "cell_type": "code",
      "source": [
        "#from external resources\n",
        "p1 = beam.Pipeline()\n",
        "\n",
        "grocery = (p1\n",
        "           | \"Read from Text\" >> beam.io.ReadFromText(\"grocery.txt\", skip_header_lines=1)\n",
        "           | \"split the record\" >> beam.Map(lambda record: record.split(','))\n",
        "           | 'Filter regular' >> beam.Filter(lambda record: record[2] == 'Regular')\n",
        "           | 'Write to text'>> beam.io.WriteToText('regular_filter.txt'))  #| beam.Map(print))\n",
        "\n",
        "p1.run()"
      ],
      "metadata": {
        "id": "45sVHxWFjBBm",
        "colab": {
          "base_uri": "https://localhost:8080/",
          "height": 91
        },
        "outputId": "5ca54e67-6641-48bb-ede6-76bd23ff9a0b"
      },
      "execution_count": 4,
      "outputs": [
        {
          "output_type": "stream",
          "name": "stderr",
          "text": [
            "WARNING:apache_beam.runners.interactive.interactive_environment:Dependencies required for Interactive Beam PCollection visualization are not available, please use: `pip install apache-beam[interactive]` to install necessary dependencies to enable all data visualization features.\n"
          ]
        },
        {
          "output_type": "display_data",
          "data": {
            "application/javascript": [
              "\n",
              "        if (typeof window.interactive_beam_jquery == 'undefined') {\n",
              "          var jqueryScript = document.createElement('script');\n",
              "          jqueryScript.src = 'https://code.jquery.com/jquery-3.4.1.slim.min.js';\n",
              "          jqueryScript.type = 'text/javascript';\n",
              "          jqueryScript.onload = function() {\n",
              "            var datatableScript = document.createElement('script');\n",
              "            datatableScript.src = 'https://cdn.datatables.net/1.10.20/js/jquery.dataTables.min.js';\n",
              "            datatableScript.type = 'text/javascript';\n",
              "            datatableScript.onload = function() {\n",
              "              window.interactive_beam_jquery = jQuery.noConflict(true);\n",
              "              window.interactive_beam_jquery(document).ready(function($){\n",
              "                \n",
              "              });\n",
              "            }\n",
              "            document.head.appendChild(datatableScript);\n",
              "          };\n",
              "          document.head.appendChild(jqueryScript);\n",
              "        } else {\n",
              "          window.interactive_beam_jquery(document).ready(function($){\n",
              "            \n",
              "          });\n",
              "        }"
            ]
          },
          "metadata": {}
        },
        {
          "output_type": "stream",
          "name": "stderr",
          "text": [
            "WARNING:root:Make sure that locally built Python SDK docker image has Python 3.7 interpreter.\n"
          ]
        },
        {
          "output_type": "execute_result",
          "data": {
            "text/plain": [
              "<apache_beam.runners.portability.fn_api_runner.fn_runner.RunnerResult at 0x7f18f1ed8110>"
            ]
          },
          "metadata": {},
          "execution_count": 4
        }
      ]
    },
    {
      "cell_type": "code",
      "source": [
        "!ls"
      ],
      "metadata": {
        "id": "zkPneCrLjBF2",
        "colab": {
          "base_uri": "https://localhost:8080/"
        },
        "outputId": "10bec67d-47c0-4827-e8af-037eb98429c5"
      },
      "execution_count": 5,
      "outputs": [
        {
          "output_type": "stream",
          "name": "stdout",
          "text": [
            "grocery.txt  regular_filter.txt-00000-of-00001\tsample_data\n"
          ]
        }
      ]
    },
    {
      "cell_type": "code",
      "source": [
        "!cat regular_filter.txt-00000-of-00001"
      ],
      "metadata": {
        "id": "fDEjCpnEjBJM",
        "colab": {
          "base_uri": "https://localhost:8080/"
        },
        "outputId": "b9c31b79-1f87-4ec7-f947-cd39d50da979"
      },
      "execution_count": 6,
      "outputs": [
        {
          "output_type": "stream",
          "name": "stdout",
          "text": [
            "['DRC01', '5.92', 'Regular', '0.019278216', 'Soft Drinks', '48.2692', 'OUT018', '2009', 'Medium', 'Tier 3', 'Supermarket Type2', '443.4228']\n",
            "['FDX07', '19.2', 'Regular', '0', 'Fruits and Vegetables', '182.095', 'OUT010', '1998', '', 'Tier 3', 'Grocery Store', '732.38']\n",
            "['FDP36', '10.395', 'Regular', '0', 'Baking Goods', '51.4008', 'OUT018', '2009', 'Medium', 'Tier 3', 'Supermarket Type2', '556.6088']\n",
            "['FDO10', '13.65', 'Regular', '0.012741089', 'Snack Foods', '57.6588', 'OUT013', '1987', 'High', 'Tier 3', 'Supermarket Type1', '343.5528']\n",
            "['FDH17', '16.2', 'Regular', '0.016687114', 'Frozen Foods', '96.9726', 'OUT045', '2002', '', 'Tier 2', 'Supermarket Type1', '1076.5986']\n",
            "['FDU28', '19.2', 'Regular', '0.09444959', 'Frozen Foods', '187.8214', 'OUT017', '2007', '', 'Tier 2', 'Supermarket Type1', '4710.535']\n",
            "['FDA03', '18.5', 'Regular', '0.045463773', 'Dairy', '144.1102', 'OUT046', '1997', 'Small', 'Tier 1', 'Supermarket Type1', '2187.153']\n",
            "['FDX32', '15.1', 'Regular', '0.1000135', 'Fruits and Vegetables', '145.4786', 'OUT049', '1999', 'Medium', 'Tier 1', 'Supermarket Type1', '1589.2646']\n",
            "['FDS46', '17.6', 'Regular', '0.047257328', 'Snack Foods', '119.6782', 'OUT046', '1997', 'Small', 'Tier 1', 'Supermarket Type1', '2145.2076']\n",
            "['FDP49', '9', 'Regular', '0.069088961', 'Breakfast', '56.3614', 'OUT046', '1997', 'Small', 'Tier 1', 'Supermarket Type1', '1547.3192']\n",
            "['FDP49', '9', 'Regular', '0.069196376', 'Breakfast', '54.3614', 'OUT049', '1999', 'Medium', 'Tier 1', 'Supermarket Type1', '718.3982']\n",
            "['FDN22', '18.85', 'Regular', '0.138190277', 'Snack Foods', '250.8724', 'OUT013', '1987', 'High', 'Tier 3', 'Supermarket Type1', '3775.086']\n",
            "['FDW12', '', 'Regular', '0.035399923', 'Baking Goods', '144.5444', 'OUT027', '1985', 'Medium', 'Tier 3', 'Supermarket Type3', '4064.0432']\n",
            "['FDR28', '13.85', 'Regular', '0.025896485', 'Frozen Foods', '165.021', 'OUT046', '1997', 'Small', 'Tier 1', 'Supermarket Type1', '4078.025']\n",
            "['FDV10', '7.645', 'Regular', '0.066693437', 'Snack Foods', '42.3112', 'OUT035', '2004', 'Small', 'Tier 2', 'Supermarket Type1', '1065.28']\n",
            "['FDE51', '5.925', 'Regular', '0.161466534', 'Dairy', '45.5086', 'OUT010', '1998', '', 'Tier 3', 'Grocery Store', '178.4344']\n",
            "['FDC14', '', 'Regular', '0.072221801', 'Canned', '43.6454', 'OUT019', '1985', 'Small', 'Tier 1', 'Grocery Store', '125.8362']\n",
            "['FDV20', '', 'Regular', '0.059511812', 'Fruits and Vegetables', '128.0678', 'OUT027', '1985', 'Medium', 'Tier 3', 'Supermarket Type3', '2797.6916']\n",
            "['DRZ11', '8.85', 'Regular', '0.113123893', 'Soft Drinks', '122.5388', 'OUT018', '2009', 'Medium', 'Tier 3', 'Supermarket Type2', '1609.9044']\n",
            "['FDX10', '', 'Regular', '0.123111453', 'Snack Foods', '36.9874', 'OUT027', '1985', 'Medium', 'Tier 3', 'Supermarket Type3', '388.1614']\n",
            "['FDL50', '12.15', 'Regular', '0.042277867', 'Canned', '126.5046', 'OUT013', '1987', 'High', 'Tier 3', 'Supermarket Type1', '373.5138']\n",
            "['FDL12', '15.85', 'Regular', '0.121632721', 'Baking Goods', '60.622', 'OUT046', '1997', 'Small', 'Tier 1', 'Supermarket Type1', '2576.646']\n"
          ]
        }
      ]
    },
    {
      "cell_type": "code",
      "source": [
        "#In memory\n",
        "with beam.Pipeline() as pipeline:\n",
        "  lines = (\n",
        "      pipeline\n",
        "      | beam.Create([\n",
        "          'To be, or not to be: that is the question: ',\n",
        "          \"Whether 'tis nobler in the mind to suffer \",\n",
        "          'The slings and arrows of outrageous fortune, ',\n",
        "          'Or to take arms against a sea of troubles, ',\n",
        "      ]))"
      ],
      "metadata": {
        "id": "TmDwo6EgjBT9",
        "colab": {
          "base_uri": "https://localhost:8080/"
        },
        "outputId": "6468faf2-9c36-46d1-f522-e4eb4a537e5d"
      },
      "execution_count": 7,
      "outputs": [
        {
          "output_type": "stream",
          "name": "stderr",
          "text": [
            "WARNING:root:Make sure that locally built Python SDK docker image has Python 3.7 interpreter.\n"
          ]
        }
      ]
    },
    {
      "cell_type": "code",
      "source": [
        "lines"
      ],
      "metadata": {
        "id": "NjKYimc8vQR-",
        "colab": {
          "base_uri": "https://localhost:8080/"
        },
        "outputId": "d8cbe84c-48c2-4228-fd43-8e251af3d8d8"
      },
      "execution_count": 9,
      "outputs": [
        {
          "output_type": "execute_result",
          "data": {
            "text/plain": [
              "<PCollection[[7]: Create/Map(decode).None] at 0x7f18f1eeb550>"
            ]
          },
          "metadata": {},
          "execution_count": 9
        }
      ]
    },
    {
      "cell_type": "code",
      "source": [
        ""
      ],
      "metadata": {
        "id": "JWDLomUDvQbh"
      },
      "execution_count": null,
      "outputs": []
    },
    {
      "cell_type": "code",
      "source": [
        ""
      ],
      "metadata": {
        "id": "OSta_kpwvQnj"
      },
      "execution_count": null,
      "outputs": []
    },
    {
      "cell_type": "code",
      "source": [
        ""
      ],
      "metadata": {
        "id": "mLn6JUt3vQzN"
      },
      "execution_count": null,
      "outputs": []
    },
    {
      "cell_type": "code",
      "source": [
        ""
      ],
      "metadata": {
        "id": "mkHOwS1OvQ9I"
      },
      "execution_count": null,
      "outputs": []
    },
    {
      "cell_type": "code",
      "source": [
        ""
      ],
      "metadata": {
        "id": "Aoz6QuJpvRGk"
      },
      "execution_count": null,
      "outputs": []
    },
    {
      "cell_type": "code",
      "source": [
        ""
      ],
      "metadata": {
        "id": "bMX7nlsuvRPd"
      },
      "execution_count": null,
      "outputs": []
    },
    {
      "cell_type": "code",
      "source": [
        ""
      ],
      "metadata": {
        "id": "ako-tow_vRZS"
      },
      "execution_count": null,
      "outputs": []
    },
    {
      "cell_type": "code",
      "source": [
        ""
      ],
      "metadata": {
        "id": "vs18tnCovRhv"
      },
      "execution_count": null,
      "outputs": []
    },
    {
      "cell_type": "code",
      "source": [
        ""
      ],
      "metadata": {
        "id": "zokg1XuYvRqc"
      },
      "execution_count": null,
      "outputs": []
    }
  ]
}
